{
 "cells": [
  {
   "cell_type": "code",
   "execution_count": 2,
   "id": "c0e707bc",
   "metadata": {},
   "outputs": [
    {
     "name": "stderr",
     "output_type": "stream",
     "text": [
      "/var/folders/bg/vfrfpry905q3m116lqjly3f40000gn/T/ipykernel_61238/929083084.py:6: DeprecationWarning: The `ads.dataset.factory` is deprecated in `oracle-ads 2.8.8` and will be removed in `oracle-ads 3.0`.Use Pandas to read from local files or object storage directly. Check https://accelerated-data-science.readthedocs.io/en/latest/user_guide/loading_data/connect.html.\n",
      "  from ads.dataset.factory import DatasetFactory\n"
     ]
    }
   ],
   "source": [
    "import io\n",
    "import warnings\n",
    "import logging\n",
    "import os\n",
    "import ads\n",
    "from ads.dataset.factory import DatasetFactory\n",
    "from ads.common.auth import default_signer\n",
    "\n",
    "import pandas as pd\n",
    "import numpy as np\n",
    "import seaborn as sns\n",
    "\n",
    "pd.set_option('display.max_columns', None)\n",
    "pd.set_option('display.max_rows', None)\n",
    "\n",
    "warnings.filterwarnings(\"ignore\")\n",
    "logging.basicConfig(format='%(levelname)s:%(message)s' ,level=logging.ERROR)"
   ]
  },
  {
   "cell_type": "code",
   "execution_count": 3,
   "id": "687236b0",
   "metadata": {},
   "outputs": [
    {
     "data": {
      "application/vnd.jupyter.widget-view+json": {
       "model_id": "00b3fa692f5447b9b9ce389dfb168cea",
       "version_major": 2,
       "version_minor": 0
      },
      "text/plain": [
       "loop1:   0%|          | 0/4 [00:00<?, ?it/s]"
      ]
     },
     "metadata": {},
     "output_type": "display_data"
    },
    {
     "name": "stderr",
     "output_type": "stream",
     "text": [
      "ERROR - Exception\n",
      "Traceback (most recent call last):\n",
      "  File \"/Library/Frameworks/Python.framework/Versions/3.13/lib/python3.13/site-packages/ocifs/core.py\", line 1121, in _determine_iam_auth\n",
      "    self._set_up_resource_principal()\n",
      "    ~~~~~~~~~~~~~~~~~~~~~~~~~~~~~~~^^\n",
      "  File \"/Library/Frameworks/Python.framework/Versions/3.13/lib/python3.13/site-packages/ocifs/core.py\", line 1131, in _set_up_resource_principal\n",
      "    self.config_kwargs[\"signer\"] = get_resource_principals_signer()\n",
      "                                   ~~~~~~~~~~~~~~~~~~~~~~~~~~~~~~^^\n",
      "  File \"/Library/Frameworks/Python.framework/Versions/3.13/lib/python3.13/site-packages/oci/auth/signers/resource_principals_signer.py\", line 239, in get_resource_principals_signer\n",
      "    raise EnvironmentError(\"{} is not defined\".format(OCI_RESOURCE_PRINCIPAL_VERSION))\n",
      "OSError: OCI_RESOURCE_PRINCIPAL_VERSION is not defined\n",
      "\n",
      "During handling of the above exception, another exception occurred:\n",
      "\n",
      "Traceback (most recent call last):\n",
      "  File \"/Library/Frameworks/Python.framework/Versions/3.13/lib/python3.13/site-packages/IPython/core/interactiveshell.py\", line 3699, in run_code\n",
      "    exec(code_obj, self.user_global_ns, self.user_ns)\n",
      "    ~~~~^^^^^^^^^^^^^^^^^^^^^^^^^^^^^^^^^^^^^^^^^^^^^\n",
      "  File \"/var/folders/bg/vfrfpry905q3m116lqjly3f40000gn/T/ipykernel_61238/4092068031.py\", line 4, in <module>\n",
      "    employees = DatasetFactory.open(f\"oci://{bucket_name}@{namespace}/synthetic/orcl_attrition.csv\",\n",
      "                                    target='Attrition', storage_options={'config':{},'region':'us-ashburn-1'})\n",
      "  File \"/Library/Frameworks/Python.framework/Versions/3.13/lib/python3.13/site-packages/ads/common/decorator/deprecate.py\", line 65, in wrapper\n",
      "    return target(*args, **kwargs)\n",
      "  File \"/Library/Frameworks/Python.framework/Versions/3.13/lib/python3.13/site-packages/ads/dataset/factory.py\", line 204, in open\n",
      "    path = ElaboratedPath(source, format=format, **kwargs)\n",
      "  File \"/Library/Frameworks/Python.framework/Versions/3.13/lib/python3.13/site-packages/ads/dataset/helper.py\", line 157, in __init__\n",
      "    self._determine_protocol_type()\n",
      "    ~~~~~~~~~~~~~~~~~~~~~~~~~~~~~^^\n",
      "  File \"/Library/Frameworks/Python.framework/Versions/3.13/lib/python3.13/site-packages/ads/dataset/helper.py\", line 263, in _determine_protocol_type\n",
      "    self._fs = fsspec.filesystem(\n",
      "               ~~~~~~~~~~~~~~~~~^\n",
      "        self._protocol, **self._kwargs.get(\"storage_options\", dict())\n",
      "        ^^^^^^^^^^^^^^^^^^^^^^^^^^^^^^^^^^^^^^^^^^^^^^^^^^^^^^^^^^^^^\n",
      "    )\n",
      "    ^\n",
      "  File \"/Library/Frameworks/Python.framework/Versions/3.13/lib/python3.13/site-packages/fsspec/registry.py\", line 322, in filesystem\n",
      "    return cls(**storage_options)\n",
      "  File \"/Library/Frameworks/Python.framework/Versions/3.13/lib/python3.13/site-packages/fsspec/spec.py\", line 81, in __call__\n",
      "    obj = super().__call__(*args, **kwargs)\n",
      "  File \"/Library/Frameworks/Python.framework/Versions/3.13/lib/python3.13/site-packages/ocifs/core.py\", line 189, in __init__\n",
      "    self.connect()\n",
      "    ~~~~~~~~~~~~^^\n",
      "  File \"/Library/Frameworks/Python.framework/Versions/3.13/lib/python3.13/site-packages/ocifs/core.py\", line 382, in connect\n",
      "    self._determine_iam_auth()\n",
      "    ~~~~~~~~~~~~~~~~~~~~~~~~^^\n",
      "  File \"/Library/Frameworks/Python.framework/Versions/3.13/lib/python3.13/site-packages/ocifs/core.py\", line 1123, in _determine_iam_auth\n",
      "    raise ConfigFileNotFound(\n",
      "    ...<3 lines>...\n",
      "    )\n",
      "oci.exceptions.ConfigFileNotFound: No iam_type was given, no signer was given, no config file was given, OCIFS_IAM_TYPE environment variable not found, and failed to create a Resource Principal signer with error: OCI_RESOURCE_PRINCIPAL_VERSION is not defined.\n",
      "ConfigFileNotFound: No iam_type was given, no signer was given, no config file was given, OCIFS_IAM_TYPE environment variable not found, and failed to create a Resource Principal signer with error: OCI_RESOURCE_PRINCIPAL_VERSION is not defined."
     ]
    }
   ],
   "source": [
    "ads.set_auth(auth='resource_principal')\n",
    "bucket_name = \"hosted-ds-datasets\"\n",
    "namespace = \"bigdatasciencelarget\"\n",
    "employees = DatasetFactory.open(f\"oci://{bucket_name}@{namespace}/synthetic/orcl_attrition.csv\",\n",
    "                                target='Attrition', storage_options={'config':{},'region':'us-ashburn-1'})"
   ]
  },
  {
   "cell_type": "code",
   "execution_count": null,
   "id": "9b0943eb",
   "metadata": {},
   "outputs": [],
   "source": [
    "employees.info()\n",
    "employees.head()"
   ]
  },
  {
   "cell_type": "code",
   "execution_count": null,
   "id": "b73ffeb8",
   "metadata": {},
   "outputs": [
    {
     "name": "stderr",
     "output_type": "stream",
     "text": [
      "ERROR - Exception\n",
      "Traceback (most recent call last):\n",
      "  File \"/Library/Frameworks/Python.framework/Versions/3.13/lib/python3.13/site-packages/IPython/core/interactiveshell.py\", line 3699, in run_code\n",
      "    exec(code_obj, self.user_global_ns, self.user_ns)\n",
      "    ~~~~^^^^^^^^^^^^^^^^^^^^^^^^^^^^^^^^^^^^^^^^^^^^^\n",
      "  File \"/var/folders/bg/vfrfpry905q3m116lqjly3f40000gn/T/ipykernel_61238/178992206.py\", line 1, in <module>\n",
      "    employees.suggest_recommendations()\n",
      "    ^^^^^^^^^\n",
      "NameError: name 'employees' is not defined\n",
      "NameError: name 'employees' is not defined"
     ]
    }
   ],
   "source": [
    "employees.suggest_recommendations()"
   ]
  },
  {
   "cell_type": "code",
   "execution_count": null,
   "id": "2fb4da10",
   "metadata": {},
   "outputs": [],
   "source": [
    "transformed_emp_F=employees.auto_transform(fix_imbalance=False)\n",
    "transformed_emp_F.info()\n",
    "employees.visualize_transforms()\n",
    "transformed_emp_F.visualize_transforms()"
   ]
  }
 ],
 "metadata": {
  "kernelspec": {
   "display_name": "Python 3",
   "language": "python",
   "name": "python3"
  },
  "language_info": {
   "codemirror_mode": {
    "name": "ipython",
    "version": 3
   },
   "file_extension": ".py",
   "mimetype": "text/x-python",
   "name": "python",
   "nbconvert_exporter": "python",
   "pygments_lexer": "ipython3",
   "version": "3.13.2"
  }
 },
 "nbformat": 4,
 "nbformat_minor": 5
}
